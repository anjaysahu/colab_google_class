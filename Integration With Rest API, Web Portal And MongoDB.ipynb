    {
      "cell_type": "code",
      "source": [
        "pip install flask\n"
      ],
      "metadata": {
        "id": "026Lf3oBv613",
        "outputId": "ad00db53-044a-4a10-8888-04c9153667df",
        "colab": {
          "base_uri": "https://localhost:8080/"
        }
      },
      "execution_count": 2,
      "outputs": [
        {
          "output_type": "stream",
          "name": "stdout",
          "text": [
            "Requirement already satisfied: flask in /usr/local/lib/python3.10/dist-packages (2.2.5)\n",
            "Requirement already satisfied: Werkzeug>=2.2.2 in /usr/local/lib/python3.10/dist-packages (from flask) (3.0.1)\n",
            "Requirement already satisfied: Jinja2>=3.0 in /usr/local/lib/python3.10/dist-packages (from flask) (3.1.3)\n",
            "Requirement already satisfied: itsdangerous>=2.0 in /usr/local/lib/python3.10/dist-packages (from flask) (2.1.2)\n",
            "Requirement already satisfied: click>=8.0 in /usr/local/lib/python3.10/dist-packages (from flask) (8.1.7)\n",
            "Requirement already satisfied: MarkupSafe>=2.0 in /usr/local/lib/python3.10/dist-packages (from Jinja2>=3.0->flask) (2.1.5)\n"
          ]
        }
      ]
    },
    {
      "cell_type": "code",
      "source": [
        "pip install flask_cors"
      ],
      "metadata": {
        "id": "mmQ4YwlLwEpx",
        "outputId": "18da7fff-2506-4097-f3fc-f7e2d091b021",
        "colab": {
          "base_uri": "https://localhost:8080/"
        }
      },
      "execution_count": 3,
      "outputs": [
        {
          "output_type": "stream",
          "name": "stdout",
          "text": [
            "Collecting flask_cors\n",
            "  Downloading Flask_Cors-4.0.0-py2.py3-none-any.whl (14 kB)\n",
            "Requirement already satisfied: Flask>=0.9 in /usr/local/lib/python3.10/dist-packages (from flask_cors) (2.2.5)\n",
            "Requirement already satisfied: Werkzeug>=2.2.2 in /usr/local/lib/python3.10/dist-packages (from Flask>=0.9->flask_cors) (3.0.1)\n",
            "Requirement already satisfied: Jinja2>=3.0 in /usr/local/lib/python3.10/dist-packages (from Flask>=0.9->flask_cors) (3.1.3)\n",
            "Requirement already satisfied: itsdangerous>=2.0 in /usr/local/lib/python3.10/dist-packages (from Flask>=0.9->flask_cors) (2.1.2)\n",
            "Requirement already satisfied: click>=8.0 in /usr/local/lib/python3.10/dist-packages (from Flask>=0.9->flask_cors) (8.1.7)\n",
            "Requirement already satisfied: MarkupSafe>=2.0 in /usr/local/lib/python3.10/dist-packages (from Jinja2>=3.0->Flask>=0.9->flask_cors) (2.1.5)\n",
            "Installing collected packages: flask_cors\n",
            "Successfully installed flask_cors-4.0.0\n"
          ]
        }
      ]
    },
    {
      "cell_type": "code",
      "source": [
        "pip install requests"
      ],
      "metadata": {
        "id": "xEXq0KpzwbFU",
        "outputId": "623dbe26-970b-4a7e-db92-a8fcdf6e326a",
        "colab": {
          "base_uri": "https://localhost:8080/"
        }
      },
      "execution_count": 4,
      "outputs": [
        {
          "output_type": "stream",
          "name": "stdout",
          "text": [
            "Requirement already satisfied: requests in /usr/local/lib/python3.10/dist-packages (2.31.0)\n",
            "Requirement already satisfied: charset-normalizer<4,>=2 in /usr/local/lib/python3.10/dist-packages (from requests) (3.3.2)\n",
            "Requirement already satisfied: idna<4,>=2.5 in /usr/local/lib/python3.10/dist-packages (from requests) (3.6)\n",
            "Requirement already satisfied: urllib3<3,>=1.21.1 in /usr/local/lib/python3.10/dist-packages (from requests) (2.0.7)\n",
            "Requirement already satisfied: certifi>=2017.4.17 in /usr/local/lib/python3.10/dist-packages (from requests) (2024.2.2)\n"
          ]
        }
      ]
    },
    {
      "cell_type": "code",
      "source": [
        "from flask import Flask, render_template, request,jsonify\n",
        "from flask_cors import CORS,cross_origin\n",
        "import requests\n",
        "from bs4 import BeautifulSoup as bs\n",
        "from urllib.request import urlopen as uReq\n",
        "import logging"
      ],
      "metadata": {
        "id": "Czvvr3Ouvi_m"
      },
      "execution_count": 5,
      "outputs": []
    },
    {
      "cell_type": "code",
      "source": [
        "logging.basicConfig(filename=\"scrapper.log\" , level=logging.INFO)\n",
        "\n",
        "app = Flask(__name__)\n",
        "\n",
        "@app.route(\"/\", methods = ['GET'])\n",
        "def homepage():\n",
        "    return render_template(\"index.html\")\n",
        "\n",
        "@app.route(\"/review\" , methods = ['POST' , 'GET'])\n",
        "def index():\n",
        "    if request.method == 'POST':\n",
        "        try:\n",
        "            searchString = request.form['content'].replace(\" \",\"\")\n",
        "            flipkart_url = \"https://www.flipkart.com/search?q=\" + searchString\n",
        "            uClient = uReq(flipkart_url)\n",
        "            flipkartPage = uClient.read()\n",
        "            uClient.close()\n",
        "            flipkart_html = bs(flipkartPage, \"html.parser\")\n",
        "            bigboxes = flipkart_html.findAll(\"div\", {\"class\": \"_1AtVbE col-12-12\"})\n",
        "            del bigboxes[0:3]\n",
        "            box = bigboxes[0]\n",
        "            productLink = \"https://www.flipkart.com\" + box.div.div.div.a['href']\n",
        "            prodRes = requests.get(productLink)\n",
        "            prodRes.encoding='utf-8'\n",
        "            prod_html = bs(prodRes.text, \"html.parser\")\n",
        "            print(prod_html)\n",
        "            commentboxes = prod_html.find_all('div', {'class': \"_16PBlm\"})\n",
        "\n",
        "            filename = searchString + \".csv\"\n",
        "            fw = open(filename, \"w\")\n",
        "            headers = \"Product, Customer Name, Rating, Heading, Comment \\n\"\n",
        "            fw.write(headers)\n",
        "            reviews = []\n",
        "            for commentbox in commentboxes:\n",
        "                try:\n",
        "                    #name.encode(encoding='utf-8')\n",
        "                    name = commentbox.div.div.find_all('p', {'class': '_2sc7ZR _2V5EHH'})[0].text\n",
        "\n",
        "                except:\n",
        "                    logging.info(\"name\")\n",
        "\n",
        "                try:\n",
        "                    #rating.encode(encoding='utf-8')\n",
        "                    rating = commentbox.div.div.div.div.text\n",
        "\n",
        "\n",
        "                except:\n",
        "                    rating = 'No Rating'\n",
        "                    logging.info(\"rating\")\n",
        "\n",
        "                try:\n",
        "                    #commentHead.encode(encoding='utf-8')\n",
        "                    commentHead = commentbox.div.div.div.p.text\n",
        "\n",
        "                except:\n",
        "                    commentHead = 'No Comment Heading'\n",
        "                    logging.info(commentHead)\n",
        "                try:\n",
        "                    comtag = commentbox.div.div.find_all('div', {'class': ''})\n",
        "                    #custComment.encode(encoding='utf-8')\n",
        "                    custComment = comtag[0].div.text\n",
        "                except Exception as e:\n",
        "                    logging.info(e)\n",
        "\n",
        "                mydict = {\"Product\": searchString, \"Name\": name, \"Rating\": rating, \"CommentHead\": commentHead,\n",
        "                          \"Comment\": custComment}\n",
        "                reviews.append(mydict)\n",
        "            logging.info(\"log my final result {}\".format(reviews))\n",
        "            return render_template('result.html', reviews=reviews[0:(len(reviews)-1)])\n",
        "        except Exception as e:\n",
        "            logging.info(e)\n",
        "            return 'something is wrong'\n",
        "    # return render_template('results.html')\n",
        "\n",
        "    else:\n",
        "        return render_template('index.html')\n",
        "\n",
        "\n",
        "if __name__==\"__main__\":\n",
        "    app.run(host=\"0.0.0.0\")\n"
      ],
      "metadata": {
        "id": "u03wfbBYv1is",
        "outputId": "577778a5-7993-43b1-f392-e7cf6a0fc5d6",
        "colab": {
          "base_uri": "https://localhost:8080/"
        }
      },
      "execution_count": 6,
      "outputs": [
        {
          "output_type": "stream",
          "name": "stdout",
          "text": [
            " * Serving Flask app '__main__'\n",
            " * Debug mode: off\n"
          ]
        },
        {
          "output_type": "stream",
          "name": "stderr",
          "text": [
            "INFO:werkzeug:\u001b[31m\u001b[1mWARNING: This is a development server. Do not use it in a production deployment. Use a production WSGI server instead.\u001b[0m\n",
            " * Running on all addresses (0.0.0.0)\n",
            " * Running on http://127.0.0.1:5000\n",
            " * Running on http://172.28.0.12:5000\n",
            "INFO:werkzeug:\u001b[33mPress CTRL+C to quit\u001b[0m\n"
          ]
        }
      ]
    },
    {
      "cell_type": "code",
      "source": [],
      "metadata": {
        "id": "rLvxq964wxrZ"
      },
      "execution_count": null,
      "outputs": []
    }
  ],
  "metadata": {
    "colab": {
      "name": "Welcome To Colaboratory",
      "toc_visible": true,
      "provenance": [],
      "include_colab_link": true
    },
    "kernelspec": {
      "display_name": "Python 3",
      "name": "python3"
    }
  },
  "nbformat": 4,
  "nbformat_minor": 0
}

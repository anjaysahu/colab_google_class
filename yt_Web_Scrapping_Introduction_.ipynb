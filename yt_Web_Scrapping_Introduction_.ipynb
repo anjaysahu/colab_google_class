{
  "cells": [
    {
      "cell_type": "markdown",
      "metadata": {
        "id": "Vtcr5ucpzhL7"
      },
      "source": [
        "successful running on - https://colab.research.google.com/"
      ]
    },
    {
      "cell_type": "code",
      "execution_count": 1,
      "metadata": {
        "id": "_AxzNVJs6Mtn"
      },
      "outputs": [],
      "source": [
        "import requests\n",
        "from bs4 import BeautifulSoup as bs\n",
        "from urllib.request import urlopen\n",
        "import logging"
      ]
    },
    {
      "cell_type": "code",
      "execution_count": 2,
      "metadata": {
        "id": "WirTL-uZ6NmV"
      },
      "outputs": [],
      "source": [
        "headers={\"User-Agent\":\"Mozilla/5.0 (Windows NT 10.0; Win64; x64) AppleWebKit/537.36 (KHTML, like Gecko) Chrome/122.0.0.0 Safari/537.36\"}"
      ]
    },
    {
      "cell_type": "code",
      "execution_count": 3,
      "metadata": {
        "id": "sAjYLp666d10"
      },
      "outputs": [],
      "source": [
        "amazon_url = \"https://www.amazon.in/s?k=\"+\"iphone13\""
      ]
    },
    {
      "cell_type": "code",
      "execution_count": 4,
      "metadata": {
        "colab": {
          "base_uri": "https://localhost:8080/",
          "height": 35
        },
        "id": "MrvTbmiu8-fC",
        "outputId": "6abe12a8-9f85-4016-c03c-63f0a6577d68"
      },
      "outputs": [
        {
          "output_type": "execute_result",
          "data": {
            "text/plain": [
              "'https://www.amazon.in/s?k=iphone13'"
            ],
            "application/vnd.google.colaboratory.intrinsic+json": {
              "type": "string"
            }
          },
          "metadata": {},
          "execution_count": 4
        }
      ],
      "source": [
        "amazon_url"
      ]
    },
    {
      "cell_type": "code",
      "execution_count": 5,
      "metadata": {
        "id": "wFskpKAv6gRJ"
      },
      "outputs": [],
      "source": [
        "urlclient = requests.get(amazon_url,headers=headers)"
      ]
    },
    {
      "cell_type": "code",
      "execution_count": 6,
      "metadata": {
        "colab": {
          "base_uri": "https://localhost:8080/"
        },
        "id": "VflslhyyzhMB",
        "outputId": "713ece64-12aa-473a-ac2d-f2660221799b"
      },
      "outputs": [
        {
          "output_type": "execute_result",
          "data": {
            "text/plain": [
              "<Response [200]>"
            ]
          },
          "metadata": {},
          "execution_count": 6
        }
      ],
      "source": [
        "urlclient"
      ]
    },
    {
      "cell_type": "code",
      "execution_count": 7,
      "metadata": {
        "id": "zwFtB7A265P8"
      },
      "outputs": [],
      "source": [
        "page_url = urlclient.content"
      ]
    },
    {
      "cell_type": "code",
      "execution_count": 8,
      "metadata": {
        "id": "BF6Ey4fL7Ksx"
      },
      "outputs": [],
      "source": [
        "soup = bs(urlclient.content,\"html.parser\")"
      ]
    },
    {
      "cell_type": "code",
      "execution_count": 9,
      "metadata": {
        "id": "n2Ifdd538bqR"
      },
      "outputs": [],
      "source": [
        "link  =soup.find_all(\"a\",{\"class\":\"a-link-normal s-underline-text s-underline-link-text s-link-style a-text-normal\"})[0].get(\"href\")"
      ]
    },
    {
      "cell_type": "code",
      "execution_count": 10,
      "metadata": {
        "colab": {
          "base_uri": "https://localhost:8080/",
          "height": 87
        },
        "id": "hRxYPgYF8v-8",
        "outputId": "704dfaa7-94f1-4e16-bf2c-bb20f73f702c"
      },
      "outputs": [
        {
          "output_type": "execute_result",
          "data": {
            "text/plain": [
              "'/Apple-iPhone-13-128GB-Blue/dp/B09G9BL5CP/ref=sr_1_1?dib=eyJ2IjoiMSJ9.eFa-TvbcC_zjCq_5PD2KO7esruSMHK5ZeG6Ar_e-Gy5piRsfqUDXAr6MP3uGF_CaFkw5kdCEdZ3Rc-PdrZgiAaC4-hGwtsWd-xJTzWPE5uoMidl-5epinsTEmgQ34TSMXlfn8lBmLJ6w1vrX-X1tljekxcfBRRaXc37jpGzl80yYjP6E-oBEkTYZzX-kbE8VrL1CX_gaXKCSppShNGs3BRY3Z_UIO8hP6lAgmOnzjrc.lMI7EAE5yzrosy7SvgOmiuy-mdfZALhQspVkRxu1iaE&dib_tag=se&keywords=iphone+13&qid=1710769467&sr=8-1'"
            ],
            "application/vnd.google.colaboratory.intrinsic+json": {
              "type": "string"
            }
          },
          "metadata": {},
          "execution_count": 10
        }
      ],
      "source": [
        "link"
      ]
    },
    {
      "cell_type": "code",
      "execution_count": 11,
      "metadata": {
        "id": "ZUovUsLDBfUc"
      },
      "outputs": [],
      "source": [
        "product_link = \"https://www.amazon.in\"+link"
      ]
    },
    {
      "cell_type": "code",
      "execution_count": 12,
      "metadata": {
        "colab": {
          "base_uri": "https://localhost:8080/",
          "height": 104
        },
        "id": "b7CYqfrcBv-J",
        "outputId": "8b1a156f-7ec2-42fa-fe22-4e80c1d9963e"
      },
      "outputs": [
        {
          "output_type": "execute_result",
          "data": {
            "text/plain": [
              "'https://www.amazon.in/Apple-iPhone-13-128GB-Blue/dp/B09G9BL5CP/ref=sr_1_1?dib=eyJ2IjoiMSJ9.eFa-TvbcC_zjCq_5PD2KO7esruSMHK5ZeG6Ar_e-Gy5piRsfqUDXAr6MP3uGF_CaFkw5kdCEdZ3Rc-PdrZgiAaC4-hGwtsWd-xJTzWPE5uoMidl-5epinsTEmgQ34TSMXlfn8lBmLJ6w1vrX-X1tljekxcfBRRaXc37jpGzl80yYjP6E-oBEkTYZzX-kbE8VrL1CX_gaXKCSppShNGs3BRY3Z_UIO8hP6lAgmOnzjrc.lMI7EAE5yzrosy7SvgOmiuy-mdfZALhQspVkRxu1iaE&dib_tag=se&keywords=iphone+13&qid=1710769467&sr=8-1'"
            ],
            "application/vnd.google.colaboratory.intrinsic+json": {
              "type": "string"
            }
          },
          "metadata": {},
          "execution_count": 12
        }
      ],
      "source": [
        "product_link"
      ]
    },
    {
      "cell_type": "code",
      "execution_count": 13,
      "metadata": {
        "id": "n0eBQqlEBy8s"
      },
      "outputs": [],
      "source": [
        "new_web = requests.get(product_link,headers=headers)"
      ]
    },
    {
      "cell_type": "code",
      "execution_count": 14,
      "metadata": {
        "colab": {
          "base_uri": "https://localhost:8080/"
        },
        "id": "6R1O12dcCJDa",
        "outputId": "13a17b5a-b2e7-49f6-9978-18535fa8719c"
      },
      "outputs": [
        {
          "output_type": "execute_result",
          "data": {
            "text/plain": [
              "<Response [200]>"
            ]
          },
          "metadata": {},
          "execution_count": 14
        }
      ],
      "source": [
        "new_web"
      ]
    },
    {
      "cell_type": "code",
      "execution_count": 15,
      "metadata": {
        "id": "P62AzT-tCLXi"
      },
      "outputs": [],
      "source": [
        "new_soup = bs(new_web.content,\"html.parser\")"
      ]
    },
    {
      "cell_type": "code",
      "execution_count": 16,
      "metadata": {
        "id": "rdHM2eBeCcNK"
      },
      "outputs": [],
      "source": [
        "cmt_box = new_soup.find_all(\"div\",{\"class\":\"a-section review aok-relative\"})"
      ]
    },
    {
      "cell_type": "code",
      "execution_count": 17,
      "metadata": {
        "colab": {
          "base_uri": "https://localhost:8080/",
          "height": 35
        },
        "id": "jlmSgfR-CgpW",
        "outputId": "3f4e7f64-70b3-4ffb-f1ac-6b8acfe7f803"
      },
      "outputs": [
        {
          "output_type": "execute_result",
          "data": {
            "text/plain": [
              "'Pankaj Kumar'"
            ],
            "application/vnd.google.colaboratory.intrinsic+json": {
              "type": "string"
            }
          },
          "metadata": {},
          "execution_count": 17
        }
      ],
      "source": [
        "cmt_box[0].span.text"
      ]
    },
    {
      "cell_type": "code",
      "execution_count": 18,
      "metadata": {
        "colab": {
          "base_uri": "https://localhost:8080/"
        },
        "id": "fQ6ETBGsHk7o",
        "outputId": "1f426b47-55fa-4f2d-c856-9bab258281c2"
      },
      "outputs": [
        {
          "output_type": "stream",
          "name": "stdout",
          "text": [
            "Pankaj Kumar\n",
            "vaibhav\n",
            "Rishikumar Thakur\n"
          ]
        }
      ],
      "source": [
        "for i in cmt_box:\n",
        "  print(i.span.text)"
      ]
    },
    {
      "cell_type": "code",
      "execution_count": 19,
      "metadata": {
        "colab": {
          "base_uri": "https://localhost:8080/",
          "height": 191
        },
        "id": "0a42XZ1GIN2F",
        "outputId": "1c81b844-f4e4-4a59-a6b2-9836a06ca219"
      },
      "outputs": [
        {
          "output_type": "execute_result",
          "data": {
            "text/plain": [
              "'The iPhone 13 128GB has surpassed my expectations in every aspect, setting a new standard for smartphone excellence. From its sleek design to its powerful performance and innovative features, this device has truly redefined what it means to own a premium smartphone.Design and Build Quality:The iPhone 13’s design is a masterpiece of craftsmanship, featuring a sleek aluminum frame and a stunning ceramic shield front cover. The device feels incredibly premium in hand, with its compact form factor and exquisite attention to detail. The IP68 water and dust resistance provide added durability and peace of mind, making it perfect for everyday use.Display:The Super Retina XDR display of the iPhone 13 is nothing short of breathtaking. The 6.1-inch OLED screen delivers vibrant colors, deep blacks, and excellent brightness levels, ensuring an immersive viewing experience for everything from streaming videos to browsing the web. The True Tone technology adapts the display to ambient lighting conditions, providing a comfortable viewing experience at all times.Performance:Powered by the A15 Bionic chip, the iPhone 13 delivers unparalleled performance and responsiveness. Apps launch instantly, animations are buttery smooth, and multitasking is a breeze, thanks to the efficient CPU and GPU. Whether it’s gaming, productivity tasks, or content creation, this device handles everything with ease, making it a true powerhouse in the palm of your hand.Camera:The camera system of the iPhone 13 is a true game-changer, capturing stunning photos and videos with remarkable clarity and detail. The dual-camera setup includes a 12MP wide and ultra-wide lens, with features such as Night mode, Deep Fusion, and Smart HDR 4 elevating photography to new heights. The addition of Cinematic mode adds a cinematic touch to video recordings, allowing users to unleash their creativity like never before.Battery Life:Battery life on the iPhone 13 is exceptional, easily lasting a full day with heavy usage. The efficient power management of the A15 chip, coupled with software optimizations, ensures long-lasting performance without compromising on productivity or entertainment. With MagSafe charging and fast charging support, staying powered up on the go has never been easier or more convenient.iOS Experience:As expected, the iPhone 13 runs on the latest version of iOS, providing a seamless and intuitive user experience. iOS 15 introduces a host of new features and improvements, including Focus mode, Live Text, and enhanced privacy controls, further enhancing the overall user experience and productivity.Conclusion:In conclusion, the iPhone 13 128GB is a true masterpiece of innovation and excellence, delivering an unparalleled experience that is sure to delight even the most discerning smartphone users. With its stunning design, powerful performance, innovative features, and exceptional battery life, it’s not just a smartphone - it’s a lifestyle upgrade. If you’re looking for the best of the best, look no further than the iPhone 13.'"
            ],
            "application/vnd.google.colaboratory.intrinsic+json": {
              "type": "string"
            }
          },
          "metadata": {},
          "execution_count": 19
        }
      ],
      "source": [
        "cmt_box[0].find(\"div\",{\"class\":\"a-expander-content reviewText review-text-content a-expander-partial-collapse-content\"}).find(\"span\").text"
      ]
    },
    {
      "cell_type": "code",
      "execution_count": 20,
      "metadata": {
        "colab": {
          "base_uri": "https://localhost:8080/"
        },
        "id": "jN4459FVI32T",
        "outputId": "5b5f7866-c07a-44c7-e89f-552fc0789004"
      },
      "outputs": [
        {
          "output_type": "stream",
          "name": "stdout",
          "text": [
            "The iPhone 13 128GB has surpassed my expectations in every aspect, setting a new standard for smartphone excellence. From its sleek design to its powerful performance and innovative features, this device has truly redefined what it means to own a premium smartphone.Design and Build Quality:The iPhone 13’s design is a masterpiece of craftsmanship, featuring a sleek aluminum frame and a stunning ceramic shield front cover. The device feels incredibly premium in hand, with its compact form factor and exquisite attention to detail. The IP68 water and dust resistance provide added durability and peace of mind, making it perfect for everyday use.Display:The Super Retina XDR display of the iPhone 13 is nothing short of breathtaking. The 6.1-inch OLED screen delivers vibrant colors, deep blacks, and excellent brightness levels, ensuring an immersive viewing experience for everything from streaming videos to browsing the web. The True Tone technology adapts the display to ambient lighting conditions, providing a comfortable viewing experience at all times.Performance:Powered by the A15 Bionic chip, the iPhone 13 delivers unparalleled performance and responsiveness. Apps launch instantly, animations are buttery smooth, and multitasking is a breeze, thanks to the efficient CPU and GPU. Whether it’s gaming, productivity tasks, or content creation, this device handles everything with ease, making it a true powerhouse in the palm of your hand.Camera:The camera system of the iPhone 13 is a true game-changer, capturing stunning photos and videos with remarkable clarity and detail. The dual-camera setup includes a 12MP wide and ultra-wide lens, with features such as Night mode, Deep Fusion, and Smart HDR 4 elevating photography to new heights. The addition of Cinematic mode adds a cinematic touch to video recordings, allowing users to unleash their creativity like never before.Battery Life:Battery life on the iPhone 13 is exceptional, easily lasting a full day with heavy usage. The efficient power management of the A15 chip, coupled with software optimizations, ensures long-lasting performance without compromising on productivity or entertainment. With MagSafe charging and fast charging support, staying powered up on the go has never been easier or more convenient.iOS Experience:As expected, the iPhone 13 runs on the latest version of iOS, providing a seamless and intuitive user experience. iOS 15 introduces a host of new features and improvements, including Focus mode, Live Text, and enhanced privacy controls, further enhancing the overall user experience and productivity.Conclusion:In conclusion, the iPhone 13 128GB is a true masterpiece of innovation and excellence, delivering an unparalleled experience that is sure to delight even the most discerning smartphone users. With its stunning design, powerful performance, innovative features, and exceptional battery life, it’s not just a smartphone - it’s a lifestyle upgrade. If you’re looking for the best of the best, look no further than the iPhone 13.\n",
            "I snagged the iPhone 13 during the Great Indian Festival for an unbeatable price of 45,000, and let me tell you, it's been a game-changer in every way!Screen: The display is absolutely stunning – crisp, vibrant, and the colors pop like never before. Watching videos or scrolling through photos is a treat for the eyes. No complaints here!Hanging: Zero issues with hanging or lagging. This phone handles multitasking like a champ. Switching between apps is smooth, and I haven't experienced any frustrating delays.Battery: The battery life is surprisingly impressive. I can go a full day with normal usage, and it still has juice left in the tank. No more anxiously searching for a charger midday – a definite win!Comfort: The sleek design makes it a pleasure to hold, and the phone is just the right weight. It feels premium and comfortable in my hand, making it a joy to use for extended periods.Image Quality: The camera on the iPhone 13 is a true standout. The photos are sharp, and the night mode is a game-changer for capturing memories in low light. Selfies have never looked this good!Color: I went for the classic Midnight color, and it's elegant and timeless. The finish adds a touch of sophistication, and it doesn't attract fingerprints like some other phones I've had in the past.In summary, getting the iPhone 13 during the Great Indian Festival was an absolute steal. From the incredible screen to the reliable battery life and stunning camera, it's exceeded my expectations. If you're on the fence, take the plunge – you won't be disappointed.\n",
            "I would say I made a great desicion to switch from Android to Apple Iphone. Though the Iphone 13 released few years back but still today it can be the best choice for those who are planning to go fo Iphone.It gives you the smooth experience without any lags and top notch performance. Talking about the camera I would say its just perfect and there are many hidden features are there to explore.battery backup is also amazing, no heating issue battery may drop quick but not like other android phones if you run heavy games like BGMI.Just go for it.\n"
          ]
        }
      ],
      "source": [
        "for i in cmt_box:\n",
        "  print(i.find(\"div\",{\"class\":\"a-expander-content reviewText review-text-content a-expander-partial-collapse-content\"}).find(\"span\").text)"
      ]
    },
    {
      "cell_type": "code",
      "execution_count": 20,
      "metadata": {
        "id": "3ZjMQSkeTE_b"
      },
      "outputs": [],
      "source": []
    }
  ],
  "metadata": {
    "colab": {
      "provenance": [],
      "toc_visible": true
    },
    "kernelspec": {
      "display_name": "Python 3 (ipykernel)",
      "language": "python",
      "name": "python3"
    },
    "language_info": {
      "codemirror_mode": {
        "name": "ipython",
        "version": 3
      },
      "file_extension": ".py",
      "mimetype": "text/x-python",
      "name": "python",
      "nbconvert_exporter": "python",
      "pygments_lexer": "ipython3",
      "version": "3.10.8"
    }
  },
  "nbformat": 4,
  "nbformat_minor": 0
}